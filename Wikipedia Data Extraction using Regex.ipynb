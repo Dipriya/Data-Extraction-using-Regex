{
 "cells": [
  {
   "cell_type": "markdown",
   "metadata": {},
   "source": [
    "# Wikipedia XML data extraction. Used spacy and regular expression to extract titles.\n"
   ]
  },
  {
   "cell_type": "code",
   "execution_count": null,
   "metadata": {},
   "outputs": [],
   "source": [
    "pip install spacy"
   ]
  },
  {
   "cell_type": "code",
   "execution_count": null,
   "metadata": {},
   "outputs": [],
   "source": [
    "import re\n",
    "import spacy"
   ]
  },
  {
   "cell_type": "code",
   "execution_count": null,
   "metadata": {},
   "outputs": [],
   "source": [
    "nlp = spacy.load('en_core_web_sm')\n",
    "# pages = []\n",
    "titles = []\n",
    "text = []\n",
    "\n",
    "persons_titles = []\n",
    "persons_texts = []\n",
    "about_person = []\n"
   ]
  },
  {
   "cell_type": "code",
   "execution_count": null,
   "metadata": {},
   "outputs": [],
   "source": [
    " #Function to check if a person is mentioned in the title and return a boolean value."
   ]
  },
  {
   "cell_type": "code",
   "execution_count": null,
   "metadata": {},
   "outputs": [],
   "source": [
    "def is_person(i, title, text_tag):\n",
    "    if title and text_tag:\n",
    "        doc = nlp(title)\n",
    "        for ent in doc.ents:\n",
    "            if ent.label_ == 'PERSON':\n",
    "                return True\n",
    "\n",
    "    return False"
   ]
  },
  {
   "cell_type": "code",
   "execution_count": null,
   "metadata": {},
   "outputs": [],
   "source": [
    "#Function to extract title and text information from an XML file and store them in the global variables titles and text."
   ]
  },
  {
   "cell_type": "code",
   "execution_count": null,
   "metadata": {},
   "outputs": [],
   "source": [
    "def extractXml():\n",
    "    global titles\n",
    "    global text\n",
    "    # global pages\n",
    "    with open('simplewiki-20210120-pages-articles.xml', 'r') as file:\n",
    "        data = file.read().replace('\\n', '')\n",
    "        pages = re.findall(r'(?<=<page>)[\\s\\S]*?(?=</page>)', data)\n",
    "        for page in pages:\n",
    "            title = re.findall(r'(?<=<title>)[\\s\\S]*?(?=</title>)', page)\n",
    "            titles.append(title[0])\n",
    "            allText = re.sub(r'<text[\\s\\S]*?>', '<text>', page)\n",
    "            textTag = re.findall(r'(?<=<text>)[\\s\\S]*?(?=</text>)', allText)\n",
    "            if len(textTag):\n",
    "                text.append(textTag[0])\n",
    "            else:\n",
    "                # print(allText)\n",
    "                text.append('')\n",
    "    return"
   ]
  },
  {
   "cell_type": "code",
   "execution_count": null,
   "metadata": {},
   "outputs": [],
   "source": [
    "extractXml()"
   ]
  },
  {
   "cell_type": "code",
   "execution_count": null,
   "metadata": {},
   "outputs": [],
   "source": [
    "#Filters titles based on a regular expression pattern, checks if each Title corresponds\n",
    "#to a person using the is_person() function, and writes the titles of persons to a file named 'titles.txt'."
   ]
  },
  {
   "cell_type": "code",
   "execution_count": null,
   "metadata": {},
   "outputs": [],
   "source": [
    "for i in range(0, len(titles)):\n",
    "    if re.search(r'^[a-z]+(([\\',. -][a-z ])?[a-z]?){1,}?$', titles[i], re.IGNORECASE) != None:\n",
    "        if is_person(i, titles[i], text[i]):\n",
    "            print(str(i))# + '    ' + title + ' -> PERSON')\n",
    "            persons_titles.append(titles[i])\n",
    "            # persons_texts.append(text_tag)\n",
    "            # if title in text_tag:\n",
    "            #     about_person.append(str(len(persons_titles)-1) + ','+title)\n",
    "        # else:\n",
    "            # print(str(i) + ' --- ')\n",
    "    else:\n",
    "        # print(str(i) + 'regex eliminate')\n",
    "        continue\n",
    "\n",
    "with open('titles.txt', 'w') as f:\n",
    "    for item in persons_titles:\n",
    "        f.write(\"%s\\n\" % item)"
   ]
  }
 ],
 "metadata": {
  "kernelspec": {
   "display_name": "Python 3",
   "language": "python",
   "name": "python3"
  },
  "language_info": {
   "codemirror_mode": {
    "name": "ipython",
    "version": 3
   },
   "file_extension": ".py",
   "mimetype": "text/x-python",
   "name": "python",
   "nbconvert_exporter": "python",
   "pygments_lexer": "ipython3",
   "version": "3.8.5"
  }
 },
 "nbformat": 4,
 "nbformat_minor": 4
}
